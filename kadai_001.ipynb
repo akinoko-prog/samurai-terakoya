{
 "cells": [
  {
   "cell_type": "code",
   "execution_count": 1,
   "id": "e86766f9-55fc-4155-8689-08e3d2cedb54",
   "metadata": {
    "scrolled": true
   },
   "outputs": [
    {
     "name": "stdout",
     "output_type": "stream",
     "text": [
      "Requirement already satisfied: requests in c:\\users\\survey_07\\python\\basepy\\lib\\site-packages (2.31.0)\n",
      "Requirement already satisfied: charset-normalizer<4,>=2 in c:\\users\\survey_07\\python\\basepy\\lib\\site-packages (from requests) (3.2.0)\n",
      "Requirement already satisfied: idna<4,>=2.5 in c:\\users\\survey_07\\python\\basepy\\lib\\site-packages (from requests) (3.4)\n",
      "Requirement already satisfied: urllib3<3,>=1.21.1 in c:\\users\\survey_07\\python\\basepy\\lib\\site-packages (from requests) (2.0.4)\n",
      "Requirement already satisfied: certifi>=2017.4.17 in c:\\users\\survey_07\\python\\basepy\\lib\\site-packages (from requests) (2023.7.22)\n"
     ]
    }
   ],
   "source": [
    "!pip install requests"
   ]
  },
  {
   "cell_type": "code",
   "execution_count": 2,
   "id": "9513ad51-dd52-442d-95d2-fa63100976ce",
   "metadata": {},
   "outputs": [
    {
     "name": "stdout",
     "output_type": "stream",
     "text": [
      "Requirement already satisfied: BeautifulSoup4 in c:\\users\\survey_07\\python\\basepy\\lib\\site-packages (4.12.2)\n",
      "Requirement already satisfied: soupsieve>1.2 in c:\\users\\survey_07\\python\\basepy\\lib\\site-packages (from BeautifulSoup4) (2.4.1)\n"
     ]
    }
   ],
   "source": [
    "!pip install BeautifulSoup4"
   ]
  },
  {
   "cell_type": "code",
   "execution_count": 3,
   "id": "fd04404f-4918-49cf-80cd-19324ab6dcbb",
   "metadata": {},
   "outputs": [],
   "source": [
    "import requests\n",
    "from bs4 import BeautifulSoup"
   ]
  },
  {
   "cell_type": "code",
   "execution_count": 4,
   "id": "1b362042-332a-48f0-87bf-7a27249fab66",
   "metadata": {},
   "outputs": [],
   "source": [
    "url = \"https://news.yahoo.co.jp/articles/9209081e1391968793e1cadfc3c063927e3d00e8\""
   ]
  },
  {
   "cell_type": "code",
   "execution_count": 5,
   "id": "a3ef5153-a313-4406-9260-dc611fcdf84d",
   "metadata": {},
   "outputs": [
    {
     "data": {
      "text/plain": [
       "<Response [200]>"
      ]
     },
     "execution_count": 5,
     "metadata": {},
     "output_type": "execute_result"
    }
   ],
   "source": [
    "response= requests.get(url)\n",
    "response"
   ]
  },
  {
   "cell_type": "code",
   "execution_count": 6,
   "id": "82d0822b-f992-406e-beef-4adea84bfbfb",
   "metadata": {},
   "outputs": [],
   "source": [
    "soup = BeautifulSoup(response.text,\"html.parser\")\n",
    "#soup"
   ]
  },
  {
   "cell_type": "code",
   "execution_count": 7,
   "id": "750b357a-206c-4720-9ebc-ba4e55b6f4b2",
   "metadata": {},
   "outputs": [],
   "source": [
    "articles = soup.find_all('p')"
   ]
  },
  {
   "cell_type": "code",
   "execution_count": 8,
   "id": "3a87f2f1-7e29-420c-8d48-e6586e4c368f",
   "metadata": {},
   "outputs": [],
   "source": [
    "#soup.find_all(\"p\")"
   ]
  },
  {
   "cell_type": "code",
   "execution_count": 9,
   "id": "b7754446-c7ae-41df-9706-d5a3a4896fd3",
   "metadata": {},
   "outputs": [
    {
     "name": "stdout",
     "output_type": "stream",
     "text": [
      "[<p class=\"riff-font-bold riff-leading-6\">現在JavaScriptが無効になっています</p>, <p class=\"riff-mt-0.5 riff-mb-0.5 riff-text-small riff-leading-5 riff-whitespace-pre-line\">Yahoo!ニュースのすべての機能を利用するためには、JavaScriptの設定を有効にしてください。<br/><a href=\"https://support.yahoo-net.jp/noscript\">JavaScriptの設定を変更する方法はこちら</a></p>, <p class=\"sc-cOohKt defacY\"><time>9/22(金)<!-- --> <!-- -->15:44</time><span class=\"sc-iLCGUA hkUsCR\">配信</span></p>, <p class=\"sc-hBezlf kVhPZf\">記者会見する日銀の植田総裁（２２日午後、日銀本店で）＝後藤嘉信撮影</p>, <p class=\"sc-hBezlf kVhPZf\">日銀本店</p>, <p class=\"sc-iMCRTP ePfheF yjSlinkDirectlink highLightSearchTarget\">　日本銀行の植田和男総裁は２２日、金融政策決定会合後の記者会見で、「物価情勢をみると、賃金価格設定行動に積極的な動きは見られているが、物価目標の実現が見通せる状態にはない。粘り強く金融緩和を続けていく」と述べた。\n",
      "\n",
      "<a data-cl-params=\"_cl_vmodule:related;_cl_link:photo;_cl_position:1;view_pos:1;shcid:9209081e1391968793e1cadfc3c063927e3d00e8;url:https%3A%2F%2Fwww.yomiuri.co.jp%2Fmarket%2Fchart-nikkei%2F%3Ffrom%3Dyhd;title:【グラフ】最近の日経平均株価の値動き;\" href=\"https://www.yomiuri.co.jp/market/chart-nikkei/?from=yhd\">【グラフ】最近の日経平均株価の値動き</a></p>, <p class=\"sc-iMCRTP ePfheF yjSlinkDirectlink highLightSearchTarget\">　日銀は２２日の決定会合で、短期金利をマイナス０・１％、長期金利を０％程度とする金融緩和策の継続を決めた。長期金利については、事実上の上限を１・０％とする運用方針も続ける。</p>, <p class=\"sc-iMCRTP ePfheF yjSlinkDirectlink highLightSearchTarget\">　植田総裁は、９日付の読売新聞のインタビューで、賃金上昇を伴う持続的な物価上昇に確信が持てた段階になれば、大規模な金融緩和策の柱である「マイナス金利政策」の解除を含め、「いろいろなオプション（選択肢）がある」と語った。ただ、具体的な時期は、現状では「到底決め打ちできる段階ではない」としていた。</p>, <p class=\"sc-eKYRIR llyViG\">入院時に大部屋を希望したのに、なぜか「個室」にされました。「差額ベッド代」が心配なのですが、希望していなくても支払うのでしょうか…？</p>, <p class=\"sc-eKYRIR llyViG\">なぜホンダ「オデッセイ」復活？ 「最上級ミニバン」一度消滅したはず… 2023年登場の理由とは</p>, <p class=\"sc-eKYRIR llyViG\">「タイヤに窒素ガス注入」？ 空気とは何が違う？ なかには有料サービスの場合も タイヤ交換時の定番メニュー 効果はあるのか？</p>, <p class=\"sc-eKYRIR llyViG\">野村の香港幹部が出国禁止か　中国当局、英紙報道</p>, <p class=\"sc-eKYRIR llyViG\">管制官は「ステルス機」をどうやって見つけるのか？ 米国「F-35B」機体行方不明トラブルから考える</p>, <p class=\"sc-eKYRIR llyViG\">7年前に「たかが3兆円」と自信満々だった…英アームの「9兆円上場」を見抜いたソフトバンク孫正義の神通力</p>, <p class=\"sc-eKYRIR llyViG\">私たち、絶好調じゃない？年収1,500万円の「子のない夫婦」…余裕のローン返済が一転「タワマン生活終了」の自業自得</p>, <p class=\"sc-eKYRIR llyViG\">孫正義がまた「大博打」に打って出た…！ソフトバンクGの「ビッグニュース」に投資家がついていけなかった「10日間」に起きたこと</p>, <p class=\"sc-eKYRIR llyViG\">「節約までして年金を繰り下げたのは、いったい何だったのか」…76歳男性が絶望した、まさかの「年金の総受取額」</p>, <p class=\"sc-eKYRIR llyViG\">中国には「絶対不可能」のはずが…ファーウェイ最新スマホに搭載された“超微細化”半導体チップを実現した「謎の技術」の正体</p>, <p>Copyright © <!-- -->2023 読売新聞社 無断転載を禁じます。</p>]\n"
     ]
    }
   ],
   "source": [
    "print(soup.select(\"p\"))"
   ]
  },
  {
   "cell_type": "code",
   "execution_count": null,
   "id": "92ba0dbe-874e-4fc8-a4f1-5e16725c4ac3",
   "metadata": {},
   "outputs": [],
   "source": []
  },
  {
   "cell_type": "code",
   "execution_count": null,
   "id": "4b594d1f-0b62-442a-9b1a-355deb47933a",
   "metadata": {},
   "outputs": [],
   "source": []
  },
  {
   "cell_type": "code",
   "execution_count": null,
   "id": "8b75e3ba-3175-4d46-8ac8-93251add852e",
   "metadata": {},
   "outputs": [],
   "source": []
  },
  {
   "cell_type": "code",
   "execution_count": null,
   "id": "bb60a34f-709a-4b70-a7fd-ffa027547289",
   "metadata": {},
   "outputs": [],
   "source": []
  }
 ],
 "metadata": {
  "kernelspec": {
   "display_name": "Python 3 (ipykernel)",
   "language": "python",
   "name": "python3"
  },
  "language_info": {
   "codemirror_mode": {
    "name": "ipython",
    "version": 3
   },
   "file_extension": ".py",
   "mimetype": "text/x-python",
   "name": "python",
   "nbconvert_exporter": "python",
   "pygments_lexer": "ipython3",
   "version": "3.10.5"
  }
 },
 "nbformat": 4,
 "nbformat_minor": 5
}
