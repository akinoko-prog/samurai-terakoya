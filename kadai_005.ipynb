{
 "cells": [
  {
   "cell_type": "code",
   "execution_count": 8,
   "id": "c3f0438a-03ac-410a-a8ea-aa974011b319",
   "metadata": {
    "tags": []
   },
   "outputs": [
    {
     "name": "stdout",
     "output_type": "stream",
     "text": [
      "台形の面積: 75.0 cm^2\n"
     ]
    }
   ],
   "source": [
    "upper_base = 10\n",
    "lower_base = 20\n",
    "height = 5\n",
    "area = (upper_base + lower_base)*height / 2\n",
    "print(\"台形の面積:\", area, \"cm^2\")"
   ]
  }
 ],
 "metadata": {
  "kernelspec": {
   "display_name": "Python 3 (ipykernel)",
   "language": "python",
   "name": "python3"
  },
  "language_info": {
   "codemirror_mode": {
    "name": "ipython",
    "version": 3
   },
   "file_extension": ".py",
   "mimetype": "text/x-python",
   "name": "python",
   "nbconvert_exporter": "python",
   "pygments_lexer": "ipython3",
   "version": "3.10.4"
  }
 },
 "nbformat": 4,
 "nbformat_minor": 5
}
