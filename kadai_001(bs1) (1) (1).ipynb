{
 "cells": [
  {
   "cell_type": "code",
   "execution_count": 1,
   "id": "e86766f9-55fc-4155-8689-08e3d2cedb54",
   "metadata": {
    "scrolled": true,
    "tags": []
   },
   "outputs": [
    {
     "name": "stdout",
     "output_type": "stream",
     "text": [
      "Requirement already satisfied: requests in c:\\users\\survey_07\\python\\basepy\\lib\\site-packages (2.31.0)\n",
      "Requirement already satisfied: charset-normalizer<4,>=2 in c:\\users\\survey_07\\python\\basepy\\lib\\site-packages (from requests) (3.2.0)\n",
      "Requirement already satisfied: idna<4,>=2.5 in c:\\users\\survey_07\\python\\basepy\\lib\\site-packages (from requests) (3.4)\n",
      "Requirement already satisfied: urllib3<3,>=1.21.1 in c:\\users\\survey_07\\python\\basepy\\lib\\site-packages (from requests) (2.0.4)\n",
      "Requirement already satisfied: certifi>=2017.4.17 in c:\\users\\survey_07\\python\\basepy\\lib\\site-packages (from requests) (2023.7.22)\n"
     ]
    }
   ],
   "source": [
    "!pip install requests"
   ]
  },
  {
   "cell_type": "code",
   "execution_count": 2,
   "id": "9513ad51-dd52-442d-95d2-fa63100976ce",
   "metadata": {
    "tags": []
   },
   "outputs": [
    {
     "name": "stdout",
     "output_type": "stream",
     "text": [
      "Requirement already satisfied: BeautifulSoup4 in c:\\users\\survey_07\\python\\basepy\\lib\\site-packages (4.12.2)\n",
      "Requirement already satisfied: soupsieve>1.2 in c:\\users\\survey_07\\python\\basepy\\lib\\site-packages (from BeautifulSoup4) (2.4.1)\n"
     ]
    }
   ],
   "source": [
    "!pip install BeautifulSoup4"
   ]
  },
  {
   "cell_type": "code",
   "execution_count": 3,
   "id": "fd04404f-4918-49cf-80cd-19324ab6dcbb",
   "metadata": {
    "tags": []
   },
   "outputs": [],
   "source": [
    "import requests\n",
    "from bs4 import BeautifulSoup"
   ]
  },
  {
   "cell_type": "code",
   "execution_count": 4,
   "id": "1b362042-332a-48f0-87bf-7a27249fab66",
   "metadata": {
    "tags": []
   },
   "outputs": [],
   "source": [
    "url = \"https://news.yahoo.co.jp/articles/48239717302744d5fc45e7cfdea426a5da8cab79\""
   ]
  },
  {
   "cell_type": "code",
   "execution_count": 5,
   "id": "a3ef5153-a313-4406-9260-dc611fcdf84d",
   "metadata": {
    "tags": []
   },
   "outputs": [],
   "source": [
    "response= requests.get(url)"
   ]
  },
  {
   "cell_type": "code",
   "execution_count": 6,
   "id": "82d0822b-f992-406e-beef-4adea84bfbfb",
   "metadata": {
    "tags": []
   },
   "outputs": [],
   "source": [
    "soup = BeautifulSoup(response.text,\"html.parser\")"
   ]
  },
  {
   "cell_type": "code",
   "execution_count": 8,
   "id": "4e39cf65-b95e-48de-8679-0041e8a6864c",
   "metadata": {
    "tags": []
   },
   "outputs": [],
   "source": [
    "articles = soup.find_all(\"p\", class_=\"sc-iMCRTP ePfheF yjSlinkDirectlink highLightSearchTarget\")"
   ]
  },
  {
   "cell_type": "code",
   "execution_count": 9,
   "id": "eebe8d28-8abc-494f-87f5-9eb89160529a",
   "metadata": {},
   "outputs": [
    {
     "name": "stdout",
     "output_type": "stream",
     "text": [
      "[<p class=\"sc-iMCRTP ePfheF yjSlinkDirectlink highLightSearchTarget\">　川内川河川事務所（鹿児島県薩摩川内市）は８月末までに、さつま町内の川内川流域で５月に実施したホタルの分布調査結果をまとめた。１２地点で３０秒間のうちに光ったホタルを目視で数えたところ、ホタル舟が運航する神子橋上流付近で３匹の確認にとどまった。２０１７年度の６８０匹から大幅に数を減らしており、関係者は原因究明を求めている。\n",
      "\n",
      "<a data-cl-params=\"_cl_vmodule:related;_cl_link:photo;_cl_position:1;view_pos:1;shcid:48239717302744d5fc45e7cfdea426a5da8cab79;url:https%3A%2F%2F373news.com%2F_news%2Fphoto.php%3Fstoryid%3D182297%26mediaid%3D8%26page%3D2;title:【写真】２０１７年、舟の上からホタルの乱舞を楽しむ見物客＝同年５月２２日午後８時半、さつま町二渡;\" href=\"https://373news.com/_news/photo.php?storyid=182297&amp;mediaid=8&amp;page=2\">【写真】２０１７年、舟の上からホタルの乱舞を楽しむ見物客＝同年５月２２日午後８時半、さつま町二渡</a></p>, <p class=\"sc-iMCRTP ePfheF yjSlinkDirectlink highLightSearchTarget\">　河川事務所と鶴田ダム管理所によると、２１年７月の大雨以降にホタルが激減している状況を踏まえて調査した。その結果、神子橋上流と同じくホタル舟が運航されてきた山崎大橋付近では２匹。１７年度と比較できる全地点で、９３．９～９９．５％減った。\n",
      "\n",
      "　調査した時期や時間帯は年によってやや異なり単純比較はできないが、「厳しい結果」と河川事務所担当者。原因究明はこれからだが、２１年の大雨でホタルの幼虫や餌のカワニナが大量に流されたことが要因の一つとみられる。ダムから出る濁水が以前より増し、カワニナが食べるコケなどが生えにくくなったのではとの指摘もあるという。\n",
      "\n",
      "　河川事務所は本年度からホタルの回復に向けた事業を始め、今回の分布調査もその一環だった。来年以降も継続し、必要に応じてカワニナの生育やコケの付着を調べたり、ホタルの専門家らにも助言を求めたりして原因を突き止め、対応したいとしている。\n",
      "\n",
      "　ホタル舟は同町の初夏の風物詩として、長らく重要な観光資源になってきた。だが二渡地区では船頭の高齢化やホタルの減少を受けて、新型コロナウイルスの影響で４年ぶりに再開した本年度をもって終了。神子地区も４年連続で実施を見送ってきた。</p>, <p class=\"sc-iMCRTP ePfheF yjSlinkDirectlink highLightSearchTarget\">　神子地区で舟を運航する「奥薩摩のホタルを守る会」の栗野明男会長（６９）は「０６年の大雨でもホタルは相当少なくなったが、近年の減り具合はそれ以上に感じる」と指摘。来年の再開に向けて準備は進めるが、「肝心のホタルがいないと話にならない。早く原因を突き止めてもらい、回復に向けて協力できることは協力したい」と話した。</p>]\n"
     ]
    }
   ],
   "source": [
    "print(articles)"
   ]
  },
  {
   "cell_type": "code",
   "execution_count": null,
   "id": "f256af21-887b-4c12-8276-d91a29314802",
   "metadata": {},
   "outputs": [],
   "source": []
  }
 ],
 "metadata": {
  "kernelspec": {
   "display_name": "Python 3 (ipykernel)",
   "language": "python",
   "name": "python3"
  },
  "language_info": {
   "codemirror_mode": {
    "name": "ipython",
    "version": 3
   },
   "file_extension": ".py",
   "mimetype": "text/x-python",
   "name": "python",
   "nbconvert_exporter": "python",
   "pygments_lexer": "ipython3",
   "version": "3.10.5"
  }
 },
 "nbformat": 4,
 "nbformat_minor": 5
}
