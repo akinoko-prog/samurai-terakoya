{
 "cells": [
  {
   "cell_type": "code",
   "execution_count": 12,
   "id": "e86766f9-55fc-4155-8689-08e3d2cedb54",
   "metadata": {
    "jupyter": {
     "source_hidden": true
    },
    "scrolled": true,
    "tags": []
   },
   "outputs": [
    {
     "name": "stdout",
     "output_type": "stream",
     "text": [
      "Requirement already satisfied: requests in c:\\users\\akiko\\python\\basepy\\lib\\site-packages (2.28.2)\n",
      "Requirement already satisfied: charset-normalizer<4,>=2 in c:\\users\\akiko\\python\\basepy\\lib\\site-packages (from requests) (3.1.0)\n",
      "Requirement already satisfied: idna<4,>=2.5 in c:\\users\\akiko\\python\\basepy\\lib\\site-packages (from requests) (3.4)\n",
      "Requirement already satisfied: urllib3<1.27,>=1.21.1 in c:\\users\\akiko\\python\\basepy\\lib\\site-packages (from requests) (1.26.15)\n",
      "Requirement already satisfied: certifi>=2017.4.17 in c:\\users\\akiko\\python\\basepy\\lib\\site-packages (from requests) (2022.12.7)\n"
     ]
    }
   ],
   "source": [
    "!pip install requests"
   ]
  },
  {
   "cell_type": "code",
   "execution_count": 13,
   "id": "9513ad51-dd52-442d-95d2-fa63100976ce",
   "metadata": {
    "tags": []
   },
   "outputs": [
    {
     "name": "stdout",
     "output_type": "stream",
     "text": [
      "Requirement already satisfied: BeautifulSoup4 in c:\\users\\akiko\\python\\basepy\\lib\\site-packages (4.12.0)\n",
      "Requirement already satisfied: soupsieve>1.2 in c:\\users\\akiko\\python\\basepy\\lib\\site-packages (from BeautifulSoup4) (2.4)\n"
     ]
    }
   ],
   "source": [
    "!pip install BeautifulSoup4"
   ]
  },
  {
   "cell_type": "code",
   "execution_count": 14,
   "id": "fd04404f-4918-49cf-80cd-19324ab6dcbb",
   "metadata": {
    "tags": []
   },
   "outputs": [],
   "source": [
    "import requests\n",
    "from bs4 import BeautifulSoup"
   ]
  },
  {
   "cell_type": "code",
   "execution_count": 15,
   "id": "1b362042-332a-48f0-87bf-7a27249fab66",
   "metadata": {
    "tags": []
   },
   "outputs": [],
   "source": [
    "url = \"https://news.yahoo.co.jp/articles/48239717302744d5fc45e7cfdea426a5da8cab79\""
   ]
  },
  {
   "cell_type": "code",
   "execution_count": 16,
   "id": "a3ef5153-a313-4406-9260-dc611fcdf84d",
   "metadata": {
    "tags": []
   },
   "outputs": [],
   "source": [
    "response= requests.get(url)"
   ]
  },
  {
   "cell_type": "code",
   "execution_count": 17,
   "id": "82d0822b-f992-406e-beef-4adea84bfbfb",
   "metadata": {
    "tags": []
   },
   "outputs": [],
   "source": [
    "soup = BeautifulSoup(response.text,\"html.parser\")"
   ]
  },
  {
   "cell_type": "code",
   "execution_count": 20,
   "id": "4e39cf65-b95e-48de-8679-0041e8a6864c",
   "metadata": {
    "tags": []
   },
   "outputs": [],
   "source": [
    "articles = soup.find_all(\"li\",class_=\"topicsListItem\")\n",
    "\n",
    "for article in articles:\n",
    "    article_title = article.find(\"a\").text\n",
    "    article_link = article.find(\"a\")[\"href\"]\n",
    "    \n",
    "    article_response = requests.get(article_link)\n",
    "    article_soup = BeautifulSoup(article_response.text,\"html.parser\")\n",
    "    \n",
    "    article_content = article_soup.find(\"div\",class_=\"article-body\").text\n"
   ]
  },
  {
   "cell_type": "code",
   "execution_count": 21,
   "id": "493569ea-99f5-4923-9a94-8a66087c131f",
   "metadata": {
    "tags": []
   },
   "outputs": [
    {
     "ename": "NameError",
     "evalue": "name 'article_title' is not defined",
     "output_type": "error",
     "traceback": [
      "\u001b[1;31m---------------------------------------------------------------------------\u001b[0m",
      "\u001b[1;31mNameError\u001b[0m                                 Traceback (most recent call last)",
      "Cell \u001b[1;32mIn[21], line 1\u001b[0m\n\u001b[1;32m----> 1\u001b[0m \u001b[38;5;28mprint\u001b[39m(\u001b[38;5;124m\"\u001b[39m\u001b[38;5;124mタイトル:\u001b[39m\u001b[38;5;124m\"\u001b[39m,\u001b[43marticle_title\u001b[49m)\n\u001b[0;32m      2\u001b[0m \u001b[38;5;28mprint\u001b[39m(\u001b[38;5;124m\"\u001b[39m\u001b[38;5;124m本文\u001b[39m\u001b[38;5;124m\"\u001b[39m,article_content)\n\u001b[0;32m      3\u001b[0m \u001b[38;5;28mprint\u001b[39m(\u001b[38;5;124m\"\u001b[39m\u001b[38;5;130;01m\\n\u001b[39;00m\u001b[38;5;124m\"\u001b[39m)\n",
      "\u001b[1;31mNameError\u001b[0m: name 'article_title' is not defined"
     ]
    }
   ],
   "source": [
    "print(\"タイトル:\",article_title)\n",
    "print(\"本文\",article_content)\n",
    "print(\"\\n\")"
   ]
  },
  {
   "cell_type": "code",
   "execution_count": null,
   "id": "eebe8d28-8abc-494f-87f5-9eb89160529a",
   "metadata": {},
   "outputs": [],
   "source": []
  }
 ],
 "metadata": {
  "kernelspec": {
   "display_name": "Python 3 (ipykernel)",
   "language": "python",
   "name": "python3"
  },
  "language_info": {
   "codemirror_mode": {
    "name": "ipython",
    "version": 3
   },
   "file_extension": ".py",
   "mimetype": "text/x-python",
   "name": "python",
   "nbconvert_exporter": "python",
   "pygments_lexer": "ipython3",
   "version": "3.10.4"
  }
 },
 "nbformat": 4,
 "nbformat_minor": 5
}
